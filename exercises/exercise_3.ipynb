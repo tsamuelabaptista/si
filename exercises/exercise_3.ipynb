{
 "cells": [
  {
   "cell_type": "markdown",
   "metadata": {},
   "source": [
    "# Exercise 3"
   ]
  },
  {
   "cell_type": "markdown",
   "metadata": {},
   "source": [
    "Test of SelectPercentile class using the \"iris.csv\" dataset (classification)."
   ]
  },
  {
   "cell_type": "code",
   "execution_count": 1,
   "metadata": {},
   "outputs": [],
   "source": [
    "import numpy as np\n",
    "from si.io.csv_file import read_csv\n",
    "from si.feature_selection.select_percentile import SelectPercentile"
   ]
  },
  {
   "cell_type": "markdown",
   "metadata": {},
   "source": [
    "Manual percentile selection"
   ]
  },
  {
   "cell_type": "code",
   "execution_count": 2,
   "metadata": {},
   "outputs": [
    {
     "name": "stdout",
     "output_type": "stream",
     "text": [
      "percentile = 50\n",
      "['petal_width', 'petal_length']\n"
     ]
    }
   ],
   "source": [
    "path = \"../datasets/iris/iris.csv\"\n",
    "dataset = read_csv(filename=path, features=True, label=True)\n",
    "\n",
    "percentile = int(input())\n",
    "selector = SelectPercentile(percentile=percentile)\n",
    "selector = selector.fit(dataset)\n",
    "dataset = selector.transform(dataset)\n",
    "print(f\"percentile = {percentile}\")\n",
    "print(dataset.features)"
   ]
  },
  {
   "cell_type": "markdown",
   "metadata": {},
   "source": [
    "Random percentile selection"
   ]
  },
  {
   "cell_type": "code",
   "execution_count": 3,
   "metadata": {},
   "outputs": [
    {
     "name": "stdout",
     "output_type": "stream",
     "text": [
      "percentile = 68\n",
      "['sepal_length', 'petal_width', 'petal_length']\n"
     ]
    }
   ],
   "source": [
    "path = \"../datasets/iris/iris.csv\"\n",
    "dataset = read_csv(filename=path, features=True, label=True)\n",
    "\n",
    "percentile = np.random.randint(1, 100)\n",
    "selector = SelectPercentile(percentile=percentile)\n",
    "selector = selector.fit(dataset)\n",
    "dataset = selector.transform(dataset)\n",
    "print(f\"percentile = {percentile}\")\n",
    "print(dataset.features)"
   ]
  }
 ],
 "metadata": {
  "kernelspec": {
   "display_name": "si",
   "language": "python",
   "name": "python3"
  },
  "language_info": {
   "codemirror_mode": {
    "name": "ipython",
    "version": 3
   },
   "file_extension": ".py",
   "mimetype": "text/x-python",
   "name": "python",
   "nbconvert_exporter": "python",
   "pygments_lexer": "ipython3",
   "version": "3.12.6"
  }
 },
 "nbformat": 4,
 "nbformat_minor": 2
}
