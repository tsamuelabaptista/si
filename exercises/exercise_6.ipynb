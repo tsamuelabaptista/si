{
 "cells": [
  {
   "cell_type": "markdown",
   "metadata": {},
   "source": [
    "# Exercise 6"
   ]
  },
  {
   "cell_type": "markdown",
   "metadata": {},
   "source": [
    "Test the \"stratified_train_test_split\" function with the iris dataset."
   ]
  },
  {
   "cell_type": "markdown",
   "metadata": {},
   "source": [
    "Visualize \"train_test_split\" vs \"stratified_train_test_split\""
   ]
  },
  {
   "cell_type": "code",
   "execution_count": 1,
   "metadata": {},
   "outputs": [],
   "source": [
    "import numpy as np\n",
    "from si.io.csv_file import read_csv\n",
    "from si.model_selection.split import train_test_split, stratified_train_test_split"
   ]
  },
  {
   "cell_type": "code",
   "execution_count": 2,
   "metadata": {},
   "outputs": [],
   "source": [
    "path = \"../datasets/iris/iris.csv\"\n",
    "dataset = read_csv(filename=path, features=True, label=True)"
   ]
  },
  {
   "cell_type": "code",
   "execution_count": 3,
   "metadata": {},
   "outputs": [
    {
     "name": "stdout",
     "output_type": "stream",
     "text": [
      "Dataset unique class labels: ['Iris-setosa' 'Iris-versicolor' 'Iris-virginica']\n",
      "Dataset unique class labels counts: [50 50 50]\n"
     ]
    }
   ],
   "source": [
    "labels, counts = np.unique(dataset.y, return_counts=True)\n",
    "\n",
    "print(\"Dataset unique class labels:\", labels)\n",
    "print(\"Dataset unique class labels counts:\", counts)"
   ]
  },
  {
   "cell_type": "markdown",
   "metadata": {},
   "source": [
    "## train_test_split"
   ]
  },
  {
   "cell_type": "code",
   "execution_count": 4,
   "metadata": {},
   "outputs": [
    {
     "name": "stdout",
     "output_type": "stream",
     "text": [
      "Train set shape: (120, 4)\n",
      "Test set shape: (30, 4)\n"
     ]
    }
   ],
   "source": [
    "train, test = train_test_split(dataset, test_size=0.2, random_state=42)\n",
    "\n",
    "print(\"Train set shape:\", train.shape())\n",
    "print(\"Test set shape:\", test.shape())"
   ]
  },
  {
   "cell_type": "code",
   "execution_count": 5,
   "metadata": {},
   "outputs": [
    {
     "name": "stdout",
     "output_type": "stream",
     "text": [
      "Train set unique class labels: ['Iris-setosa' 'Iris-versicolor' 'Iris-virginica']\n",
      "Train set unique class labels counts: [40 41 39]\n"
     ]
    }
   ],
   "source": [
    "labels, counts = np.unique(train.y, return_counts=True)\n",
    "\n",
    "print(\"Train set unique class labels:\", labels)\n",
    "print(\"Train set unique class labels counts:\", counts)"
   ]
  },
  {
   "cell_type": "code",
   "execution_count": 6,
   "metadata": {},
   "outputs": [
    {
     "name": "stdout",
     "output_type": "stream",
     "text": [
      "Test set unique class labels: ['Iris-setosa' 'Iris-versicolor' 'Iris-virginica']\n",
      "Test set unique class labels counts: [10  9 11]\n"
     ]
    }
   ],
   "source": [
    "labels, counts = np.unique(test.y, return_counts=True)\n",
    "\n",
    "print(\"Test set unique class labels:\", labels)\n",
    "print(\"Test set unique class labels counts:\", counts)"
   ]
  },
  {
   "cell_type": "markdown",
   "metadata": {},
   "source": [
    "## stratified_train_test_split"
   ]
  },
  {
   "cell_type": "code",
   "execution_count": 7,
   "metadata": {},
   "outputs": [
    {
     "name": "stdout",
     "output_type": "stream",
     "text": [
      "Train set shape: (120, 4)\n",
      "Test set shape: (30, 4)\n"
     ]
    }
   ],
   "source": [
    "train, test = stratified_train_test_split(dataset, test_size=0.2, random_state=42)\n",
    "\n",
    "print(\"Train set shape:\", train.shape())\n",
    "print(\"Test set shape:\", test.shape())"
   ]
  },
  {
   "cell_type": "code",
   "execution_count": 8,
   "metadata": {},
   "outputs": [
    {
     "name": "stdout",
     "output_type": "stream",
     "text": [
      "Train set unique class labels: ['Iris-setosa' 'Iris-versicolor' 'Iris-virginica']\n",
      "Train set unique class labels counts: [40 40 40]\n"
     ]
    }
   ],
   "source": [
    "labels, counts = np.unique(train.y, return_counts=True)\n",
    "\n",
    "print(\"Train set unique class labels:\", labels)\n",
    "print(\"Train set unique class labels counts:\", counts)"
   ]
  },
  {
   "cell_type": "code",
   "execution_count": 9,
   "metadata": {},
   "outputs": [
    {
     "name": "stdout",
     "output_type": "stream",
     "text": [
      "Test set unique class labels: ['Iris-setosa' 'Iris-versicolor' 'Iris-virginica']\n",
      "Test set unique class labels counts: [10 10 10]\n"
     ]
    }
   ],
   "source": [
    "labels, counts = np.unique(test.y, return_counts=True)\n",
    "\n",
    "print(\"Test set unique class labels:\", labels)\n",
    "print(\"Test set unique class labels counts:\", counts)"
   ]
  }
 ],
 "metadata": {
  "kernelspec": {
   "display_name": "si",
   "language": "python",
   "name": "python3"
  },
  "language_info": {
   "codemirror_mode": {
    "name": "ipython",
    "version": 3
   },
   "file_extension": ".py",
   "mimetype": "text/x-python",
   "name": "python",
   "nbconvert_exporter": "python",
   "pygments_lexer": "ipython3",
   "version": "3.12.6"
  }
 },
 "nbformat": 4,
 "nbformat_minor": 2
}
