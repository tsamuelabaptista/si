{
 "cells": [
  {
   "cell_type": "markdown",
   "metadata": {},
   "source": [
    "# Exercise 1"
   ]
  },
  {
   "cell_type": "code",
   "execution_count": 1,
   "metadata": {},
   "outputs": [],
   "source": [
    "import numpy as np\n",
    "from si.io.csv_file import read_csv\n",
    "from si.data.dataset import Dataset"
   ]
  },
  {
   "cell_type": "markdown",
   "metadata": {},
   "source": [
    "1.1) In this exercise, we will use the iris dataset. Load\n",
    "the \"iris.csv\" using the appropriate method for this file\n",
    "type (use the new functions from the package)."
   ]
  },
  {
   "cell_type": "code",
   "execution_count": 2,
   "metadata": {},
   "outputs": [],
   "source": [
    "path = \"../datasets/iris/iris.csv\"\n",
    "dataset = read_csv(filename=path, features=True, label=True)"
   ]
  },
  {
   "cell_type": "markdown",
   "metadata": {},
   "source": [
    "1.2) Select the penultimate independent variable.\n",
    "What is the dimension of the resulting array?"
   ]
  },
  {
   "cell_type": "code",
   "execution_count": 3,
   "metadata": {},
   "outputs": [
    {
     "data": {
      "text/plain": [
       "(150,)"
      ]
     },
     "execution_count": 3,
     "metadata": {},
     "output_type": "execute_result"
    }
   ],
   "source": [
    "pen_ind_var = dataset.X[:, -2]\n",
    "pen_ind_var.shape"
   ]
  },
  {
   "cell_type": "markdown",
   "metadata": {},
   "source": [
    "1.3) Select the last 10 samples from the iris dataset.\n",
    "What is the mean of the last 10 samples for each\n",
    "independent variable/feature?"
   ]
  },
  {
   "cell_type": "code",
   "execution_count": 4,
   "metadata": {},
   "outputs": [
    {
     "name": "stdout",
     "output_type": "stream",
     "text": [
      "[6.45 3.03 5.33 2.17]\n"
     ]
    }
   ],
   "source": [
    "last_10_samples = dataset.X[-10:, :]\n",
    "mean = np.mean(last_10_samples, axis=0)\n",
    "print(mean)"
   ]
  },
  {
   "cell_type": "markdown",
   "metadata": {},
   "source": [
    "1.4) Select all samples from the dataset with values\n",
    "less than or equal to 6 for all independent\n",
    "variables/features. How many samples do you obtain?"
   ]
  },
  {
   "cell_type": "code",
   "execution_count": 5,
   "metadata": {},
   "outputs": [
    {
     "data": {
      "text/plain": [
       "89"
      ]
     },
     "execution_count": 5,
     "metadata": {},
     "output_type": "execute_result"
    }
   ],
   "source": [
    "mask = np.all(dataset.X <= 6, axis=1)\n",
    "filtered_samples = dataset.X[mask]\n",
    "len(filtered_samples)"
   ]
  },
  {
   "cell_type": "markdown",
   "metadata": {},
   "source": [
    "1.5) Select all samples with a class/label different\n",
    "from 'Iris-setosa'. How many samples do you obtain?"
   ]
  },
  {
   "cell_type": "code",
   "execution_count": 6,
   "metadata": {},
   "outputs": [
    {
     "data": {
      "text/plain": [
       "100"
      ]
     },
     "execution_count": 6,
     "metadata": {},
     "output_type": "execute_result"
    }
   ],
   "source": [
    "mask = dataset.y != 'Iris-setosa'\n",
    "filtered_samples = dataset.X[mask]\n",
    "len(filtered_samples)"
   ]
  },
  {
   "cell_type": "markdown",
   "metadata": {},
   "source": [
    "# Optional: Exercise 2: methods usage examples"
   ]
  },
  {
   "cell_type": "markdown",
   "metadata": {},
   "source": [
    "## Method dropna\n",
    "\n",
    "Remove all samples containing at least one null value (NaN)."
   ]
  },
  {
   "cell_type": "code",
   "execution_count": 7,
   "metadata": {},
   "outputs": [],
   "source": [
    "path = \"../datasets/iris/iris_missing_data.csv\"\n",
    "dataset = read_csv(filename=path, features=True, label=True)"
   ]
  },
  {
   "cell_type": "code",
   "execution_count": 8,
   "metadata": {},
   "outputs": [
    {
     "name": "stdout",
     "output_type": "stream",
     "text": [
      "Dataset shape before dropna\n",
      "dataset.X shape: (150, 4)\n",
      "dataset.y shape: (150,)\n"
     ]
    }
   ],
   "source": [
    "print(\"Dataset shape before dropna\")\n",
    "print(\"dataset.X shape:\", dataset.X.shape)\n",
    "print(\"dataset.y shape:\", dataset.y.shape)"
   ]
  },
  {
   "cell_type": "code",
   "execution_count": 9,
   "metadata": {},
   "outputs": [
    {
     "name": "stdout",
     "output_type": "stream",
     "text": [
      "Dataset shape after dropna\n",
      "dataset.X shape: (134, 4)\n",
      "dataset.y shape: (134,)\n"
     ]
    }
   ],
   "source": [
    "dataset.dropna()\n",
    "print(\"Dataset shape after dropna\")\n",
    "print(\"dataset.X shape:\", dataset.X.shape)\n",
    "print(\"dataset.y shape:\", dataset.y.shape)"
   ]
  },
  {
   "cell_type": "markdown",
   "metadata": {},
   "source": [
    "## Method fillna"
   ]
  },
  {
   "cell_type": "markdown",
   "metadata": {},
   "source": [
    "Replace all null values with another value"
   ]
  },
  {
   "cell_type": "code",
   "execution_count": 10,
   "metadata": {},
   "outputs": [],
   "source": [
    "path = \"../datasets/iris/iris_missing_data.csv\"\n",
    "dataset = read_csv(filename=path, features=True, label=True)"
   ]
  },
  {
   "cell_type": "code",
   "execution_count": 11,
   "metadata": {},
   "outputs": [
    {
     "name": "stdout",
     "output_type": "stream",
     "text": [
      "dataset.X has all NaNs filled: True\n"
     ]
    }
   ],
   "source": [
    "dataset.fillna(value=5.0)\n",
    "\n",
    "print(\"dataset.X has all NaNs filled:\", np.all(np.isnan(dataset.X) == False))"
   ]
  },
  {
   "cell_type": "markdown",
   "metadata": {},
   "source": [
    "Replace all null values of each feature with the mean of each feature"
   ]
  },
  {
   "cell_type": "code",
   "execution_count": 12,
   "metadata": {},
   "outputs": [],
   "source": [
    "path = \"../datasets/iris/iris_missing_data.csv\"\n",
    "dataset = read_csv(filename=path, features=True, label=True)"
   ]
  },
  {
   "cell_type": "code",
   "execution_count": 13,
   "metadata": {},
   "outputs": [
    {
     "name": "stdout",
     "output_type": "stream",
     "text": [
      "dataset.X has all NaNs filled: True\n"
     ]
    }
   ],
   "source": [
    "dataset.fillna(value='mean')\n",
    "\n",
    "print(\"dataset.X has all NaNs filled:\", np.all(np.isnan(dataset.X) == False))"
   ]
  },
  {
   "cell_type": "markdown",
   "metadata": {},
   "source": [
    "Replace all null values of each feature with the median of each feature"
   ]
  },
  {
   "cell_type": "code",
   "execution_count": 14,
   "metadata": {},
   "outputs": [],
   "source": [
    "path = \"../datasets/iris/iris_missing_data.csv\"\n",
    "dataset = read_csv(filename=path, features=True, label=True)"
   ]
  },
  {
   "cell_type": "code",
   "execution_count": 15,
   "metadata": {},
   "outputs": [
    {
     "name": "stdout",
     "output_type": "stream",
     "text": [
      "dataset.X has all NaNs filled: True\n"
     ]
    }
   ],
   "source": [
    "dataset.fillna(value='median')\n",
    "\n",
    "print(\"dataset.X has all NaNs filled:\", np.all(np.isnan(dataset.X) == False))"
   ]
  },
  {
   "cell_type": "markdown",
   "metadata": {},
   "source": [
    "## Method remove_by_index\n",
    "\n",
    "Remove the first sample of the dataset"
   ]
  },
  {
   "cell_type": "code",
   "execution_count": 16,
   "metadata": {},
   "outputs": [],
   "source": [
    "path = \"../datasets/iris/iris.csv\"\n",
    "dataset = read_csv(filename=path, features=True, label=True)"
   ]
  },
  {
   "cell_type": "code",
   "execution_count": 17,
   "metadata": {},
   "outputs": [
    {
     "name": "stdout",
     "output_type": "stream",
     "text": [
      "Dataset shape before removing the first sample\n",
      "dataset.X shape: (150, 4)\n",
      "dataset.y shape: (150,)\n"
     ]
    }
   ],
   "source": [
    "print(\"Dataset shape before removing the first sample\")\n",
    "print(\"dataset.X shape:\", dataset.X.shape)\n",
    "print(\"dataset.y shape:\", dataset.y.shape)"
   ]
  },
  {
   "cell_type": "code",
   "execution_count": 18,
   "metadata": {},
   "outputs": [
    {
     "name": "stdout",
     "output_type": "stream",
     "text": [
      "Dataset shape after removing the first sample\n",
      "dataset.X shape: (149, 4)\n",
      "dataset.y shape: (149,)\n"
     ]
    }
   ],
   "source": [
    "dataset.remove_by_index(index=0)\n",
    "print(\"Dataset shape after removing the first sample\")\n",
    "print(\"dataset.X shape:\", dataset.X.shape)\n",
    "print(\"dataset.y shape:\", dataset.y.shape)"
   ]
  }
 ],
 "metadata": {
  "kernelspec": {
   "display_name": "si",
   "language": "python",
   "name": "python3"
  },
  "language_info": {
   "codemirror_mode": {
    "name": "ipython",
    "version": 3
   },
   "file_extension": ".py",
   "mimetype": "text/x-python",
   "name": "python",
   "nbconvert_exporter": "python",
   "pygments_lexer": "ipython3",
   "version": "3.12.6"
  }
 },
 "nbformat": 4,
 "nbformat_minor": 2
}
