{
 "cells": [
  {
   "cell_type": "markdown",
   "metadata": {},
   "source": [
    "# Exercise 1"
   ]
  },
  {
   "cell_type": "code",
   "execution_count": 24,
   "metadata": {},
   "outputs": [],
   "source": [
    "import numpy as np\n",
    "# import os\n",
    "# from datasets import DATASETS_PATH\n",
    "from si.io.csv_file import read_csv\n",
    "from si.data.dataset import Dataset"
   ]
  },
  {
   "cell_type": "markdown",
   "metadata": {},
   "source": [
    "1.1) In this exercise, we will use the iris dataset. Load\n",
    "the \"iris.csv\" using the appropriate method for this file\n",
    "type (use the new functions from the package)."
   ]
  },
  {
   "cell_type": "code",
   "execution_count": 25,
   "metadata": {},
   "outputs": [],
   "source": [
    "# csv_file = os.path.join(DATASETS_PATH, 'iris', 'iris.csv')\n",
    "# iris = read_csv(filename=csv_file, features=True, label=True)\n",
    "\n",
    "path = \"C:/Users/tsamu/Documents/Universidade/Mestrado_Bioinformatica/Ano_2/Sistemas_Inteligentes_para_a_Bioinformatica/Aulas_Praticas/si/datasets/iris/iris.csv\"\n",
    "dataset = read_csv(filename=path, features=True, label=True)"
   ]
  },
  {
   "cell_type": "markdown",
   "metadata": {},
   "source": [
    "1.2) Select the penultimate independent variable.\n",
    "What is the dimension of the resulting array?"
   ]
  },
  {
   "cell_type": "code",
   "execution_count": 26,
   "metadata": {},
   "outputs": [
    {
     "data": {
      "text/plain": [
       "(150,)"
      ]
     },
     "execution_count": 26,
     "metadata": {},
     "output_type": "execute_result"
    }
   ],
   "source": [
    "pen_ind_var = dataset.X[:, -2]\n",
    "pen_ind_var.shape"
   ]
  },
  {
   "cell_type": "markdown",
   "metadata": {},
   "source": [
    "1.3) Select the last 10 samples from the iris dataset.\n",
    "What is the mean of the last 10 samples for each\n",
    "independent variable/feature?"
   ]
  },
  {
   "cell_type": "code",
   "execution_count": 27,
   "metadata": {},
   "outputs": [
    {
     "name": "stdout",
     "output_type": "stream",
     "text": [
      "[6.45 3.03 5.33 2.17]\n"
     ]
    }
   ],
   "source": [
    "last_10_samples = dataset.X[-10:, :]\n",
    "mean = np.mean(last_10_samples, axis=0)\n",
    "print(mean)"
   ]
  },
  {
   "cell_type": "markdown",
   "metadata": {},
   "source": [
    "1.4) Select all samples from the dataset with values\n",
    "less than or equal to 6 for all independent\n",
    "variables/features. How many samples do you obtain?"
   ]
  },
  {
   "cell_type": "code",
   "execution_count": 28,
   "metadata": {},
   "outputs": [
    {
     "data": {
      "text/plain": [
       "89"
      ]
     },
     "execution_count": 28,
     "metadata": {},
     "output_type": "execute_result"
    }
   ],
   "source": [
    "mask = np.all(dataset.X <= 6, axis=1)\n",
    "filtered_samples = dataset.X[mask]\n",
    "len(filtered_samples)"
   ]
  },
  {
   "cell_type": "markdown",
   "metadata": {},
   "source": [
    "1.5) Select all samples with a class/label different\n",
    "from 'Iris-setosa'. How many samples do you obtain?"
   ]
  },
  {
   "cell_type": "code",
   "execution_count": 29,
   "metadata": {},
   "outputs": [
    {
     "data": {
      "text/plain": [
       "100"
      ]
     },
     "execution_count": 29,
     "metadata": {},
     "output_type": "execute_result"
    }
   ],
   "source": [
    "mask = dataset.y != 'Iris-setosa'\n",
    "filtered_samples = dataset.X[mask]\n",
    "len(filtered_samples)"
   ]
  }
 ],
 "metadata": {
  "kernelspec": {
   "display_name": "si",
   "language": "python",
   "name": "python3"
  },
  "language_info": {
   "codemirror_mode": {
    "name": "ipython",
    "version": 3
   },
   "file_extension": ".py",
   "mimetype": "text/x-python",
   "name": "python",
   "nbconvert_exporter": "python",
   "pygments_lexer": "ipython3",
   "version": "3.12.6"
  }
 },
 "nbformat": 4,
 "nbformat_minor": 2
}
