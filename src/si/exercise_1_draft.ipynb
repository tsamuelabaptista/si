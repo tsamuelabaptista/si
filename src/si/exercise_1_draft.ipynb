{
 "cells": [
  {
   "cell_type": "markdown",
   "metadata": {},
   "source": [
    "# Exercise 1"
   ]
  },
  {
   "cell_type": "code",
   "execution_count": 27,
   "metadata": {},
   "outputs": [],
   "source": [
    "import numpy as np\n",
    "import pandas as pd\n",
    "import os\n",
    "# from datasets import DATASETS_PATH\n",
    "from si.io.csv_file import read_csv\n",
    "from si.data.dataset import Dataset"
   ]
  },
  {
   "cell_type": "code",
   "execution_count": 28,
   "metadata": {},
   "outputs": [],
   "source": [
    "# csv_file = os.path.join(DATASETS_PATH, 'iris', 'iris.csv')\n",
    "# iris = read_csv(filename=csv_file, features=True, label=True)\n",
    "\n",
    "iris = read_csv(filename=\"C:/Users/tsamu/Documents/Universidade/Mestrado_Bioinformatica/Ano_2/Sistemas_Inteligentes_para_a_Bioinformatica/Aulas_Praticas/si/datasets/iris/iris.csv\", features=True, label=True)"
   ]
  },
  {
   "cell_type": "code",
   "execution_count": 29,
   "metadata": {},
   "outputs": [],
   "source": [
    "iris = Dataset.to_dataframe(iris)"
   ]
  },
  {
   "cell_type": "code",
   "execution_count": 30,
   "metadata": {},
   "outputs": [
    {
     "data": {
      "text/plain": [
       "(150,)"
      ]
     },
     "execution_count": 30,
     "metadata": {},
     "output_type": "execute_result"
    }
   ],
   "source": [
    "penultimate_independent_variable = iris.iloc[:, -2]\n",
    "penultimate_independent_variable.shape"
   ]
  }
 ],
 "metadata": {
  "kernelspec": {
   "display_name": "si",
   "language": "python",
   "name": "python3"
  },
  "language_info": {
   "codemirror_mode": {
    "name": "ipython",
    "version": 3
   },
   "file_extension": ".py",
   "mimetype": "text/x-python",
   "name": "python",
   "nbconvert_exporter": "python",
   "pygments_lexer": "ipython3",
   "version": "3.12.6"
  }
 },
 "nbformat": 4,
 "nbformat_minor": 2
}
